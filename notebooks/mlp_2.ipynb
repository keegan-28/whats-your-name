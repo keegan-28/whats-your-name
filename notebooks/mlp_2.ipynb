{
 "cells": [
  {
   "cell_type": "code",
   "execution_count": 2,
   "metadata": {},
   "outputs": [],
   "source": [
    "import torch\n",
    "import torch.nn.functional as F\n",
    "import matplotlib.pyplot as plt\n",
    "\n",
    "%matplotlib inline"
   ]
  },
  {
   "cell_type": "code",
   "execution_count": 3,
   "metadata": {},
   "outputs": [
    {
     "name": "stdout",
     "output_type": "stream",
     "text": [
      "cuda\n"
     ]
    }
   ],
   "source": [
    "device = torch.device(\"cuda\" if torch.cuda.is_available() else \"cpu\")\n",
    "torch.set_default_device(device)\n",
    "print(device)"
   ]
  },
  {
   "cell_type": "code",
   "execution_count": 4,
   "metadata": {},
   "outputs": [],
   "source": [
    "words = open(\"names.txt\", \"r\").read().splitlines()"
   ]
  },
  {
   "cell_type": "code",
   "execution_count": 5,
   "metadata": {},
   "outputs": [],
   "source": [
    "chars = sorted(list(set(\"\".join(words))))\n",
    "stoi = {s: i + 1 for i, s in enumerate(chars)}\n",
    "stoi[\".\"] = 0\n",
    "itos = {i: s for s, i in stoi.items()}"
   ]
  },
  {
   "cell_type": "code",
   "execution_count": 6,
   "metadata": {},
   "outputs": [
    {
     "name": "stdout",
     "output_type": "stream",
     "text": [
      "vocab_size=27\n",
      "word_count=32033\n"
     ]
    }
   ],
   "source": [
    "vocab_size = len(stoi)\n",
    "word_count = len(words)\n",
    "print(f\"{vocab_size=}\")\n",
    "print(f\"{word_count=}\")"
   ]
  },
  {
   "cell_type": "code",
   "execution_count": 7,
   "metadata": {},
   "outputs": [],
   "source": [
    "block_size = 3\n",
    "\n",
    "\n",
    "def build_dataset(words):\n",
    "    X, Y = [], []\n",
    "    for w in words:\n",
    "        context = [0] * block_size\n",
    "        for ch in w + \".\":\n",
    "            ix = stoi[ch]\n",
    "            X.append(context)\n",
    "            Y.append(ix)\n",
    "            context = context[1:] + [ix]\n",
    "    X = torch.tensor(X)\n",
    "    Y = torch.tensor(Y)\n",
    "    return X, Y\n",
    "\n",
    "\n",
    "import random\n",
    "\n",
    "random.seed(42)\n",
    "random.shuffle(words)\n",
    "n1 = int(0.8 * len(words))\n",
    "n2 = int(0.9 * len(words))\n",
    "\n",
    "Xtr, Ytr = build_dataset(words[:n1])\n",
    "Xdev, Ydev = build_dataset(words[n1:n2])\n",
    "Xte, Yte = build_dataset(words[n2:])"
   ]
  },
  {
   "cell_type": "code",
   "execution_count": 9,
   "metadata": {},
   "outputs": [],
   "source": [
    "def cmp(s, dt: torch.Tensor, t: torch.Tensor):\n",
    "    ex = torch.all(dt == t.grad).item()\n",
    "    app = torch.allclose(dt, t.grad)\n",
    "    maxdiff = (dt - t.grad).abs().max().item()\n",
    "    print(\n",
    "        f\"{s:15s} | exact: {str(ex):5s} | approximate: {str(app):5s} | maxdiff: {maxdiff}\"\n",
    "    )"
   ]
  },
  {
   "cell_type": "code",
   "execution_count": 11,
   "metadata": {},
   "outputs": [
    {
     "name": "stdout",
     "output_type": "stream",
     "text": [
      "8217\n"
     ]
    }
   ],
   "source": [
    "n_emb = 10\n",
    "n_hidden = 64\n",
    "\n",
    "\n",
    "g = torch.Generator(device=device).manual_seed(2147483647)\n",
    "C = torch.randn((vocab_size, n_emb), generator=g)\n",
    "w1 = (\n",
    "    torch.randn((n_emb * block_size, 200), generator=g)\n",
    "    * (5 / 3)\n",
    "    / ((n_emb * block_size) ** 0.5)\n",
    ")\n",
    "# Can remove bias due ot batchnorm removing its effect\n",
    "b1 = torch.randn(n_hidden, generator=g) * 0.1\n",
    "w2 = torch.randn((n_hidden, vocab_size), generator=g) * 0.1\n",
    "b2 = torch.randn(vocab_size, generator=g) * 0.1\n",
    "\n",
    "bn_gain = torch.randn((1, n_hidden)) * 0.1 + 1.0\n",
    "bn_bias = torch.randn((1, n_hidden)) * 0.1\n",
    "\n",
    "bn_mean_running = torch.zeros((1, n_hidden))\n",
    "bn_std_running = torch.ones((1, n_hidden))\n",
    "\n",
    "params = [C, w1, b1, w2, b2, bn_gain, bn_bias]\n",
    "print(sum(p.nelement() for p in params))\n",
    "for p in params:\n",
    "    p.requires_grad = True"
   ]
  },
  {
   "cell_type": "code",
   "execution_count": 9,
   "metadata": {},
   "outputs": [
    {
     "data": {
      "text/plain": [
       "'\\nDont want pre activation states to be too small so that the tanh isnt doing anything\\nOr too large so that the tanh saturates it too much\\nWant them to be roughly gaussian\\nBatchNorm makes the pre activation gaussian at initialisation\\n\\nDont want to always force pre activation to be gaussian wed like to allow nn to vary the dist depending on back prop (scale and shift)\\nTherefore during backprop we can change bn_bias and bn_gain\\n\\n'"
      ]
     },
     "execution_count": 9,
     "metadata": {},
     "output_type": "execute_result"
    }
   ],
   "source": [
    "# Batch Normalisation\n",
    "\"\"\"\n",
    "Dont want pre activation states to be too small so that the tanh isnt doing anything\n",
    "Or too large so that the tanh saturates it too much\n",
    "Want them to be roughly gaussian\n",
    "BatchNorm makes the pre activation gaussian at initialisation\n",
    "\n",
    "Dont want to always force pre activation to be gaussian wed like to allow nn to vary the dist depending on back prop (scale and shift)\n",
    "Therefore during backprop we can change bn_bias and bn_gain\n",
    "\n",
    "\"\"\""
   ]
  },
  {
   "cell_type": "code",
   "execution_count": 19,
   "metadata": {},
   "outputs": [
    {
     "name": "stdout",
     "output_type": "stream",
     "text": [
      "      0/ 200000: 2.089463\n",
      "  10000/ 200000: 1.902251\n",
      "  20000/ 200000: 1.820950\n",
      "  30000/ 200000: 2.015711\n",
      "  40000/ 200000: 2.028321\n",
      "  50000/ 200000: 2.132854\n",
      "  60000/ 200000: 2.058287\n",
      "  70000/ 200000: 2.421978\n",
      "  80000/ 200000: 2.029055\n",
      "  90000/ 200000: 1.936962\n",
      " 100000/ 200000: 2.259862\n",
      " 110000/ 200000: 2.265439\n",
      " 120000/ 200000: 1.963771\n",
      " 130000/ 200000: 2.417619\n",
      " 140000/ 200000: 2.054292\n",
      " 150000/ 200000: 2.411887\n",
      " 160000/ 200000: 2.472137\n",
      " 170000/ 200000: 2.471863\n",
      " 180000/ 200000: 1.813348\n",
      " 190000/ 200000: 2.029222\n"
     ]
    }
   ],
   "source": [
    "max_steps = 200000\n",
    "batch_size = 32\n",
    "lossi = []\n",
    "best_loss = 0\n",
    "\n",
    "for i in range(max_steps):\n",
    "    # Minibatch construct\n",
    "    ix = torch.randint(0, Xtr.shape[0], (batch_size,), generator=g)\n",
    "    Xb, Yb = Xtr[ix], Ytr[ix]\n",
    "\n",
    "    # Forward\n",
    "    emb = C[Xb]\n",
    "    embcat = emb.view(emb.shape[0], -1)\n",
    "    hpreact = embcat @ w1\n",
    "\n",
    "    # -----------BatchNormalisation Layer ----------------\n",
    "    bn_meani = hpreact.mean(0, keepdim=True)\n",
    "    bn_stdi = hpreact.std(0, keepdim=True)\n",
    "\n",
    "    hpreact = bn_gain * (hpreact - bn_meani) / bn_stdi + bn_bias  # BATCHNORMALISATION\n",
    "\n",
    "    with torch.no_grad():\n",
    "        bn_mean_running = 0.999 + bn_mean_running + 0.001 * bn_meani\n",
    "        bn_std_running = 0.999 + bn_std_running + 0.001 * bn_stdi\n",
    "\n",
    "    # ----------Non Linearity ----------------\n",
    "\n",
    "    h = torch.tanh(hpreact)\n",
    "    logits = h @ w2 + b2\n",
    "    loss = F.cross_entropy(logits, Yb)\n",
    "\n",
    "    # backward\n",
    "    for p in params:\n",
    "        p.grad = None\n",
    "    loss.backward()\n",
    "\n",
    "    # Update Parameters\n",
    "    lr = 0.1 if i < 100000 else 0.01\n",
    "    for p in params:\n",
    "        p.data += -lr * p.grad\n",
    "\n",
    "    if i % 10000 == 0:\n",
    "        print(f\"{i:7d}/{max_steps:7d}: {loss.item():4f}\")\n",
    "\n",
    "    lossi.append(loss.log10().item())"
   ]
  },
  {
   "cell_type": "code",
   "execution_count": 20,
   "metadata": {},
   "outputs": [
    {
     "data": {
      "image/png": "[encoded data removed]",
      "text/plain": [
       "<Figure size 640x480 with 1 Axes>"
      ]
     },
     "metadata": {},
     "output_type": "display_data"
    }
   ],
   "source": [
    "plt.plot([i for i in range(max_steps)], lossi);"
   ]
  },
  {
   "cell_type": "code",
   "execution_count": 21,
   "metadata": {},
   "outputs": [],
   "source": [
    "# Calibrate the batch norm at the end of training to use during inference time\n",
    "with torch.no_grad():\n",
    "    emb = C[Xtr]\n",
    "    embcat = emb.view(emb.shape[0], -1)\n",
    "    hpreact = embcat @ w1 + b1\n",
    "    bn_mean = hpreact.mean(0, keepdim=True)\n",
    "    bn_std = hpreact.std(0, keepdim=True)"
   ]
  },
  {
   "cell_type": "code",
   "execution_count": 22,
   "metadata": {},
   "outputs": [
    {
     "name": "stdout",
     "output_type": "stream",
     "text": [
      "train 2.0467939376831055\n",
      "test 2.097883462905884\n",
      "val 2.1004958152770996\n"
     ]
    }
   ],
   "source": [
    "@torch.no_grad()  # Decorator disables gradient tracking\n",
    "def split_loss(split):\n",
    "    x, y = {\"train\": (Xtr, Ytr), \"test\": (Xte, Yte), \"val\": (Xdev, Ydev)}[split]\n",
    "    emb = C[x]\n",
    "    embcat = emb.view(emb.shape[0], -1)\n",
    "    hpreact = embcat @ w1 + b1\n",
    "    hpreact = bn_gain * (hpreact - bn_mean) / bn_std + bn_bias  # BATCHNORMALISATION\n",
    "    h = torch.tanh(hpreact)\n",
    "    logits = h @ w2 + b2\n",
    "    loss = F.cross_entropy(logits, y)\n",
    "    print(split, loss.item())\n",
    "\n",
    "\n",
    "split_loss(\"train\")\n",
    "split_loss(\"test\")\n",
    "split_loss(\"val\")"
   ]
  },
  {
   "cell_type": "code",
   "execution_count": 29,
   "metadata": {},
   "outputs": [
    {
     "name": "stdout",
     "output_type": "stream",
     "text": [
      "claurihiry.\n",
      "pieaa.\n",
      "holaviana.\n",
      "chutie.\n",
      "elystis.\n",
      "orteygh.\n",
      "marius.\n",
      "san.\n",
      "ayra.\n",
      "terson.\n",
      "karise.\n",
      "kalistan.\n",
      "davaltev.\n",
      "kaileya.\n",
      "ahlina.\n",
      "kamo.\n",
      "loren.\n",
      "josalif.\n",
      "zade.\n",
      "colves.\n"
     ]
    }
   ],
   "source": [
    "for _ in range(20):\n",
    "    out = []\n",
    "    context = [0] * block_size\n",
    "    while True:\n",
    "        emb = C[torch.tensor([context])]\n",
    "        embcat = emb.view(emb.shape[0], -1)\n",
    "        hpreact = embcat @ w1 + b1\n",
    "        hpreact = bn_gain * (hpreact - bn_mean) / bn_std + bn_bias  # BATCHNORMALISATION\n",
    "        h = torch.tanh(hpreact)\n",
    "        logits = h @ w2 + b2\n",
    "        probs = F.softmax(logits, dim=1)\n",
    "        ix = torch.multinomial(probs, num_samples=1, generator=g).item()\n",
    "        context = context[1:] + [ix]\n",
    "        out.append(ix)\n",
    "        if ix == 0:\n",
    "            break\n",
    "\n",
    "    print(\"\".join(itos[i] for i in out))"
   ]
  },
  {
   "cell_type": "code",
   "execution_count": 14,
   "metadata": {},
   "outputs": [],
   "source": [
    "# No changes\n",
    "# train 2.1260766983032227\n",
    "# test 2.171398162841797\n",
    "# val 2.1688480377197266\n",
    "\n",
    "# 0.1x the w2 and b2 t = 4m.15s\n",
    "# train 2.0698041915893555\n",
    "# test 2.133720874786377\n",
    "# val 2.1256227493286133\n",
    "\n",
    "# 0.1x the w1 and b1\n",
    "# train 2.0504839420318604\n",
    "# test 2.1084134578704834\n",
    "# val 2.11212158203125\n",
    "\n",
    "# BatchNorm\n",
    "# train 2.0352141857147217\n",
    "# test 2.0920584201812744\n",
    "# val 2.0940141677856445\n"
   ]
  }
 ],
 "metadata": {
  "kernelspec": {
   "display_name": "venv",
   "language": "python",
   "name": "python3"
  },
  "language_info": {
   "codemirror_mode": {
    "name": "ipython",
    "version": 3
   },
   "file_extension": ".py",
   "mimetype": "text/x-python",
   "name": "python",
   "nbconvert_exporter": "python",
   "pygments_lexer": "ipython3",
   "version": "3.12.3"
  }
 },
 "nbformat": 4,
 "nbformat_minor": 2
}
